{
  "nbformat": 4,
  "nbformat_minor": 0,
  "metadata": {
    "colab": {
      "provenance": [],
      "gpuType": "T4"
    },
    "kernelspec": {
      "name": "python3",
      "display_name": "Python 3"
    },
    "language_info": {
      "name": "python"
    },
    "accelerator": "GPU"
  },
  "cells": [
    {
      "cell_type": "markdown",
      "source": [
        "## Made by Ashish Kumar Verma\n",
        "\n",
        "### Now, Everyone can generate youtube chapters for free ( Small tip just turn on GPU Accleration in View Resources for faster results )"
      ],
      "metadata": {
        "id": "HDA07eaQcHxN"
      }
    },
    {
      "cell_type": "markdown",
      "source": [
        "# How to run this? Just Click Ctrl+F9 or cmd+f9 to run  <br> Second Option:  Just click on Runtime and click run all after pasting the youtube url in the download_link below"
      ],
      "metadata": {
        "id": "swNGNGg3chE1"
      }
    },
    {
      "cell_type": "code",
      "source": [
        "download_link = \"https://www.youtube.com/watch?v=RCv4-C1Emhk\" #@param # PASTE YOUTUBE LINK HERE"
      ],
      "metadata": {
        "id": "CMVbCcz8dAS0",
        "cellView": "form"
      },
      "execution_count": null,
      "outputs": []
    },
    {
      "cell_type": "markdown",
      "source": [
        "# Run this for initialization"
      ],
      "metadata": {
        "id": "SD7fA89ubz1c"
      }
    },
    {
      "cell_type": "code",
      "execution_count": null,
      "metadata": {
        "colab": {
          "base_uri": "https://localhost:8080/"
        },
        "id": "ByJQyP_GWGSh",
        "outputId": "1a6fd628-7ec8-4bab-fc26-47992b48a5e7"
      },
      "outputs": [
        {
          "output_type": "stream",
          "name": "stdout",
          "text": [
            "Looking in indexes: https://pypi.org/simple, https://us-python.pkg.dev/colab-wheels/public/simple/\n",
            "Collecting pytube\n",
            "  Downloading pytube-15.0.0-py3-none-any.whl (57 kB)\n",
            "\u001b[2K     \u001b[90m━━━━━━━━━━━━━━━━━━━━━━━━━━━━━━━━━━━━━━━━\u001b[0m \u001b[32m57.6/57.6 kB\u001b[0m \u001b[31m2.6 MB/s\u001b[0m eta \u001b[36m0:00:00\u001b[0m\n",
            "\u001b[?25hInstalling collected packages: pytube\n",
            "Successfully installed pytube-15.0.0\n",
            "Looking in indexes: https://pypi.org/simple, https://us-python.pkg.dev/colab-wheels/public/simple/\n",
            "Collecting openai-whisper\n",
            "  Downloading openai-whisper-20230314.tar.gz (792 kB)\n",
            "\u001b[2K     \u001b[90m━━━━━━━━━━━━━━━━━━━━━━━━━━━━━━━━━━━━━━━\u001b[0m \u001b[32m792.9/792.9 kB\u001b[0m \u001b[31m9.4 MB/s\u001b[0m eta \u001b[36m0:00:00\u001b[0m\n",
            "\u001b[?25h  Installing build dependencies ... \u001b[?25l\u001b[?25hdone\n",
            "  Getting requirements to build wheel ... \u001b[?25l\u001b[?25hdone\n",
            "  Preparing metadata (pyproject.toml) ... \u001b[?25l\u001b[?25hdone\n",
            "Requirement already satisfied: triton==2.0.0 in /usr/local/lib/python3.10/dist-packages (from openai-whisper) (2.0.0)\n",
            "Requirement already satisfied: numba in /usr/local/lib/python3.10/dist-packages (from openai-whisper) (0.56.4)\n",
            "Requirement already satisfied: numpy in /usr/local/lib/python3.10/dist-packages (from openai-whisper) (1.22.4)\n",
            "Requirement already satisfied: torch in /usr/local/lib/python3.10/dist-packages (from openai-whisper) (2.0.1+cu118)\n",
            "Requirement already satisfied: tqdm in /usr/local/lib/python3.10/dist-packages (from openai-whisper) (4.65.0)\n",
            "Requirement already satisfied: more-itertools in /usr/local/lib/python3.10/dist-packages (from openai-whisper) (9.1.0)\n",
            "Collecting tiktoken==0.3.1 (from openai-whisper)\n",
            "  Downloading tiktoken-0.3.1-cp310-cp310-manylinux_2_17_x86_64.manylinux2014_x86_64.whl (1.7 MB)\n",
            "\u001b[2K     \u001b[90m━━━━━━━━━━━━━━━━━━━━━━━━━━━━━━━━━━━━━━━━\u001b[0m \u001b[32m1.7/1.7 MB\u001b[0m \u001b[31m61.7 MB/s\u001b[0m eta \u001b[36m0:00:00\u001b[0m\n",
            "\u001b[?25hCollecting ffmpeg-python==0.2.0 (from openai-whisper)\n",
            "  Downloading ffmpeg_python-0.2.0-py3-none-any.whl (25 kB)\n",
            "Requirement already satisfied: future in /usr/local/lib/python3.10/dist-packages (from ffmpeg-python==0.2.0->openai-whisper) (0.18.3)\n",
            "Requirement already satisfied: regex>=2022.1.18 in /usr/local/lib/python3.10/dist-packages (from tiktoken==0.3.1->openai-whisper) (2022.10.31)\n",
            "Requirement already satisfied: requests>=2.26.0 in /usr/local/lib/python3.10/dist-packages (from tiktoken==0.3.1->openai-whisper) (2.27.1)\n",
            "Requirement already satisfied: cmake in /usr/local/lib/python3.10/dist-packages (from triton==2.0.0->openai-whisper) (3.25.2)\n",
            "Requirement already satisfied: filelock in /usr/local/lib/python3.10/dist-packages (from triton==2.0.0->openai-whisper) (3.12.0)\n",
            "Requirement already satisfied: lit in /usr/local/lib/python3.10/dist-packages (from triton==2.0.0->openai-whisper) (16.0.5)\n",
            "Requirement already satisfied: llvmlite<0.40,>=0.39.0dev0 in /usr/local/lib/python3.10/dist-packages (from numba->openai-whisper) (0.39.1)\n",
            "Requirement already satisfied: setuptools in /usr/local/lib/python3.10/dist-packages (from numba->openai-whisper) (67.7.2)\n",
            "Requirement already satisfied: typing-extensions in /usr/local/lib/python3.10/dist-packages (from torch->openai-whisper) (4.5.0)\n",
            "Requirement already satisfied: sympy in /usr/local/lib/python3.10/dist-packages (from torch->openai-whisper) (1.11.1)\n",
            "Requirement already satisfied: networkx in /usr/local/lib/python3.10/dist-packages (from torch->openai-whisper) (3.1)\n",
            "Requirement already satisfied: jinja2 in /usr/local/lib/python3.10/dist-packages (from torch->openai-whisper) (3.1.2)\n",
            "Requirement already satisfied: urllib3<1.27,>=1.21.1 in /usr/local/lib/python3.10/dist-packages (from requests>=2.26.0->tiktoken==0.3.1->openai-whisper) (1.26.15)\n",
            "Requirement already satisfied: certifi>=2017.4.17 in /usr/local/lib/python3.10/dist-packages (from requests>=2.26.0->tiktoken==0.3.1->openai-whisper) (2022.12.7)\n",
            "Requirement already satisfied: charset-normalizer~=2.0.0 in /usr/local/lib/python3.10/dist-packages (from requests>=2.26.0->tiktoken==0.3.1->openai-whisper) (2.0.12)\n",
            "Requirement already satisfied: idna<4,>=2.5 in /usr/local/lib/python3.10/dist-packages (from requests>=2.26.0->tiktoken==0.3.1->openai-whisper) (3.4)\n",
            "Requirement already satisfied: MarkupSafe>=2.0 in /usr/local/lib/python3.10/dist-packages (from jinja2->torch->openai-whisper) (2.1.2)\n",
            "Requirement already satisfied: mpmath>=0.19 in /usr/local/lib/python3.10/dist-packages (from sympy->torch->openai-whisper) (1.3.0)\n",
            "Building wheels for collected packages: openai-whisper\n",
            "  Building wheel for openai-whisper (pyproject.toml) ... \u001b[?25l\u001b[?25hdone\n",
            "  Created wheel for openai-whisper: filename=openai_whisper-20230314-py3-none-any.whl size=796910 sha256=2120de56bb6e61518bc0caa87fbcc90f90e4fbaabbaea3e733864cfb76424707\n",
            "  Stored in directory: /root/.cache/pip/wheels/b2/13/5f/fe8245f6dc59df505879da4b2129932e342f02a80e6b87f27d\n",
            "Successfully built openai-whisper\n",
            "Installing collected packages: ffmpeg-python, tiktoken, openai-whisper\n",
            "Successfully installed ffmpeg-python-0.2.0 openai-whisper-20230314 tiktoken-0.3.1\n"
          ]
        }
      ],
      "source": [
        "!pip install pytube\n",
        "!pip install openai-whisper"
      ]
    },
    {
      "cell_type": "code",
      "source": [
        "import pytube\n",
        "import whisper\n",
        "model = whisper.load_model(\"base\")"
      ],
      "metadata": {
        "colab": {
          "base_uri": "https://localhost:8080/"
        },
        "id": "al-By9A1WqOE",
        "outputId": "c947c5a1-5f04-4ebc-9e05-ecac7777e36a"
      },
      "execution_count": null,
      "outputs": [
        {
          "output_type": "stream",
          "name": "stderr",
          "text": [
            "100%|████████████████████████████████████████| 139M/139M [00:01<00:00, 111MiB/s]\n"
          ]
        }
      ]
    },
    {
      "cell_type": "code",
      "source": [
        "def download_video(url):\n",
        "    try:\n",
        "        youtube = pytube.YouTube(url)\n",
        "        video = youtube.streams.get_audio_only()\n",
        "        video.download(filename=\"video.mp3\")\n",
        "        return True\n",
        "    except Exception as e:\n",
        "        print(f\"Error downloading video: {e}\")\n",
        "        return False\n",
        "def transcribe_video(video_path):\n",
        "    try:\n",
        "        whisper.transcribe(video_path, 'transcript.txt')\n",
        "        return True\n",
        "    except Exception as e:\n",
        "        print(f\"Error transcribing video: {e}\")\n",
        "        return False"
      ],
      "metadata": {
        "id": "N7N2fLS1WUXf"
      },
      "execution_count": null,
      "outputs": []
    },
    {
      "cell_type": "code",
      "source": [
        "download_video(download_link)"
      ],
      "metadata": {
        "colab": {
          "base_uri": "https://localhost:8080/"
        },
        "id": "opGnqn05We4V",
        "outputId": "7734eb2d-ded4-4faa-b77a-f3875a21d1f3"
      },
      "execution_count": null,
      "outputs": [
        {
          "output_type": "execute_result",
          "data": {
            "text/plain": [
              "True"
            ]
          },
          "metadata": {},
          "execution_count": 5
        }
      ]
    },
    {
      "cell_type": "code",
      "source": [
        "result = model.transcribe(\"video.mp3\")"
      ],
      "metadata": {
        "id": "BsW6C4O9Wn3E"
      },
      "execution_count": null,
      "outputs": []
    },
    {
      "cell_type": "markdown",
      "source": [
        "# Run this for getting the transcription"
      ],
      "metadata": {
        "id": "twUnQYcUb7iE"
      }
    },
    {
      "cell_type": "code",
      "source": [
        "#@title\n",
        "for user in result[\"segments\"]:\n",
        "  text = user[\"text\"]\n",
        "  start = user[\"start\"]\n",
        "  end = user[\"end\"]\n",
        "  print(f\"{text} [start: {round(start)} seccond, end: {round(end)} second]\")"
      ],
      "metadata": {
        "colab": {
          "base_uri": "https://localhost:8080/"
        },
        "id": "lg8nYljOXxnk",
        "outputId": "1e1b8c06-94a1-4662-ab46-b126e824a111",
        "cellView": "form"
      },
      "execution_count": null,
      "outputs": [
        {
          "output_type": "stream",
          "name": "stdout",
          "text": [
            " Hey, so you want to venture into the Microsoft Learn Student Ambassador program and become a [start: 0 seccond, end: 4 second]\n",
            " Microsoft Community Leader? So before starting, let's take a look at the benefits of this program. [start: 4 seccond, end: 8 second]\n",
            " Number one, you get 10,000 free Azure credits. In which you can play with servers, [start: 8 seccond, end: 13 second]\n",
            " by-words, and machines, you can play with databases, do anything with the Microsoft [start: 13 seccond, end: 17 second]\n",
            " Technology that is available on the Azure portal. Number two, student-toop-ins. [start: 17 seccond, end: 21 second]\n",
            " In which you can take your Microsoft exams, such as Azure Fundamentals, or there are many [start: 21 seccond, end: 25 second]\n",
            " exams on the Microsoft Learn Portal. All those exams would be free for you, [start: 25 seccond, end: 28 second]\n",
            " or I would say, I am very busy with that. Number three, a great tech community. [start: 28 seccond, end: 32 second]\n",
            " So, in the MSF, you get access to the teams in which you can interact with many different [start: 32 seccond, end: 37 second]\n",
            " people who are experts in their fields and yet guidance. And that's the most interesting part. [start: 37 seccond, end: 40 second]\n",
            " And also, you have tech meetups of MLSA. Recently, there was a tech meetup in Delhi and CR, [start: 40 seccond, end: 45 second]\n",
            " which was amazing. And after you have a good service, you get amazing things. [start: 45 seccond, end: 49 second]\n",
            " Okay, so now, question arises, how you can become a Microsoft [start: 52 seccond, end: 54 second]\n",
            " Learn student ambassador. So, basically, you want to head over to studentambassadors.com. [start: 54 seccond, end: 58 second]\n",
            " And there, there is a simple form in which you have to fill your academic details and all those [start: 58 seccond, end: 62 second]\n",
            " things. And there are two main questions which are required for selection. One is the introduction [start: 62 seccond, end: 65 second]\n",
            " of yourself. And the second one is you need to teach a tech. Because Microsoft is looking for [start: 65 seccond, end: 69 second]\n",
            " a candidate who is not only technically sound, but also verbally sound, which means that he or she [start: 69 seccond, end: 74 second]\n",
            " can connect to the audience and teach technical concepts. So, basically, in the introduction part, [start: 74 seccond, end: 77 second]\n",
            " you can tell that I have learned these things from the Microsoft Learn Portal, which is an amazing [start: 77 seccond, end: 81 second]\n",
            " portal. You have to check it out. And then for teaching a tech stack, you can actually select [start: 81 seccond, end: 85 second]\n",
            " a Microsoft technology, such as you can tell about load balancers and all those things, [start: 85 seccond, end: 88 second]\n",
            " Microsoft virtual machines. It's not important. You can also eat some data structures, [start: 88 seccond, end: 92 second]\n",
            " but teaching a Microsoft technology to become a Microsoft ambassador would give you an upper hand. [start: 92 seccond, end: 96 second]\n",
            " So, that's how you can become a Microsoft Learn student ambassador. And I see you next time. Bye. [start: 96 seccond, end: 101 second]\n"
          ]
        }
      ]
    },
    {
      "cell_type": "code",
      "source": [],
      "metadata": {
        "id": "cFusMfsHajh0"
      },
      "execution_count": null,
      "outputs": []
    }
  ]
}